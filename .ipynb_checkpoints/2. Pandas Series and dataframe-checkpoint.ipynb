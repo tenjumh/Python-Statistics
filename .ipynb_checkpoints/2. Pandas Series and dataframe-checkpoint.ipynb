{
 "cells": [
  {
   "cell_type": "markdown",
   "metadata": {},
   "source": [
    "파이썬에서 Pandas는 데이터 분석을 위한 고수준의 자료구조와 데이터 분석 도구를 제공합니다.\n",
    "pandas에서는 Series와 Dataframe가 있으며, Series는 1차원데이터를 다루는데, Dataframe은 2차원 데이터를 다르는데 효과적인 자료구조입니다."
   ]
  },
  {
   "cell_type": "code",
   "execution_count": 1,
   "metadata": {},
   "outputs": [
    {
     "name": "stdout",
     "output_type": "stream",
     "text": [
      "room_num_1\n"
     ]
    }
   ],
   "source": [
    "#Dictionary\n",
    "sample_dic = {'key1' : 'room_num_1', 'key2' : 'room_num_2'}\n",
    "print(sample_dic['key1'])"
   ]
  },
  {
   "cell_type": "code",
   "execution_count": 8,
   "metadata": {},
   "outputs": [
    {
     "name": "stdout",
     "output_type": "stream",
     "text": [
      "===stock_price_list===\n",
      "42000\n",
      "34200\n",
      "35300\n",
      "43900\n",
      "41900\n",
      "===stock_price_dic===\n",
      "35300\n"
     ]
    }
   ],
   "source": [
    "#List vs Dictionary\n",
    "stock_price_list = [42000, 34200, 35300, 43900, 41900]\n",
    "print(\"===stock_price_list===\")\n",
    "for price in stock_price_list:\n",
    "    print(price)\n",
    "        \n",
    "stock_price_dic = {'2019-08-12' : 42000,\n",
    "                   '2019-08-13' : 34200,\n",
    "                   '2019-08-14' : 35300,\n",
    "                   '2019-08-15' : 43900,\n",
    "                   '2019-08-16' : 41900\n",
    "                  }\n",
    "print(\"===stock_price_dic===\")\n",
    "print(stock_price_dic['2019-08-14'])"
   ]
  },
  {
   "cell_type": "code",
   "execution_count": null,
   "metadata": {},
   "outputs": [],
   "source": []
  }
 ],
 "metadata": {
  "kernelspec": {
   "display_name": "Python 3",
   "language": "python",
   "name": "python3"
  },
  "language_info": {
   "codemirror_mode": {
    "name": "ipython",
    "version": 3
   },
   "file_extension": ".py",
   "mimetype": "text/x-python",
   "name": "python",
   "nbconvert_exporter": "python",
   "pygments_lexer": "ipython3",
   "version": "3.6.8"
  }
 },
 "nbformat": 4,
 "nbformat_minor": 2
}
